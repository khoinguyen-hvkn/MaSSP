{
 "cells": [
  {
   "cell_type": "markdown",
   "metadata": {},
   "source": [
    "# Eigenface example"
   ]
  },
  {
   "cell_type": "code",
   "execution_count": 1,
   "metadata": {},
   "outputs": [],
   "source": [
    "import numpy as np \n",
    "from scipy import misc                     # for loading image \n",
    "np.random.seed(1)\n"
   ]
  },
  {
   "cell_type": "code",
   "execution_count": 2,
   "metadata": {},
   "outputs": [],
   "source": [
    "path = 'unpadded/' # path to the database \n",
    "ids = range(1, 16) # 15 persons\n",
    "states = ['centerlight', 'glasses', 'happy', 'leftlight', \n",
    "          'noglasses', 'normal', 'rightlight','sad', \n",
    "          'sleepy', 'surprised', 'wink' ]\n",
    "prefix = 'subject'\n",
    "surfix = '.pgm'\n",
    "\n",
    "h = 116 # height \n",
    "w = 98 # width\n",
    "D = h * w\n",
    "N = len(states)*15 \n",
    "\n",
    "X = np.zeros((D, N))"
   ]
  },
  {
   "cell_type": "code",
   "execution_count": 3,
   "metadata": {},
   "outputs": [
    {
     "name": "stderr",
     "output_type": "stream",
     "text": [
      "/usr/local/lib/python3.6/dist-packages/ipykernel_launcher.py:7: DeprecationWarning: `imread` is deprecated!\n",
      "`imread` is deprecated in SciPy 1.0.0, and will be removed in 1.2.0.\n",
      "Use ``imageio.imread`` instead.\n",
      "  import sys\n"
     ]
    }
   ],
   "source": [
    "# collect all data\n",
    "# \n",
    "cnt = 0 \n",
    "for person_id in range(1, 16):\n",
    "    for state in states:\n",
    "        fn = path + prefix + str(person_id).zfill(2) + '.' + state + surfix\n",
    "        X[:, cnt] = misc.imread(fn).reshape(D)\n",
    "        cnt += 1 \n"
   ]
  },
  {
   "cell_type": "code",
   "execution_count": 4,
   "metadata": {},
   "outputs": [
    {
     "name": "stderr",
     "output_type": "stream",
     "text": [
      "/usr/local/lib/python3.6/dist-packages/ipykernel_launcher.py:21: DeprecationWarning: `imread` is deprecated!\n",
      "`imread` is deprecated in SciPy 1.0.0, and will be removed in 1.2.0.\n",
      "Use ``imageio.imread`` instead.\n",
      "/usr/local/lib/python3.6/dist-packages/ipykernel_launcher.py:21: DeprecationWarning: `imread` is deprecated!\n",
      "`imread` is deprecated in SciPy 1.0.0, and will be removed in 1.2.0.\n",
      "Use ``imageio.imread`` instead.\n",
      "/usr/local/lib/python3.6/dist-packages/ipykernel_launcher.py:21: DeprecationWarning: `imread` is deprecated!\n",
      "`imread` is deprecated in SciPy 1.0.0, and will be removed in 1.2.0.\n",
      "Use ``imageio.imread`` instead.\n",
      "/usr/local/lib/python3.6/dist-packages/ipykernel_launcher.py:21: DeprecationWarning: `imread` is deprecated!\n",
      "`imread` is deprecated in SciPy 1.0.0, and will be removed in 1.2.0.\n",
      "Use ``imageio.imread`` instead.\n",
      "/usr/local/lib/python3.6/dist-packages/ipykernel_launcher.py:21: DeprecationWarning: `imread` is deprecated!\n",
      "`imread` is deprecated in SciPy 1.0.0, and will be removed in 1.2.0.\n",
      "Use ``imageio.imread`` instead.\n"
     ]
    },
    {
     "data": {
      "image/png": "[encoded data removed]",
      "text/plain": [
       "<Figure size 432x288 with 1 Axes>"
      ]
     },
     "metadata": {
      "needs_background": "light"
     },
     "output_type": "display_data"
    }
   ],
   "source": [
    "# Doing PCA, note that each row is a datapoint\n",
    "from sklearn.decomposition import PCA\n",
    "import matplotlib.pyplot as plt\n",
    "%matplotlib inline\n",
    "\n",
    "def asd(k):\n",
    "    pca = PCA(n_components=k) # k = 100 \n",
    "    pca.fit(X.T)\n",
    "# projection matrix \n",
    "    U = pca.components_.T\n",
    "    for i in range(U.shape[1]):\n",
    "        \n",
    "#     f2 = plt.imshow(, interpolation='nearest' )\n",
    "        fn = 'eigenface' + str(i).zfill(2) + '.png'\n",
    "        \n",
    "    #plt.show()\n",
    "    # See reconstruction of first 6 persons \n",
    "    for person_id in range(1, 2):\n",
    "        for state in ['centerlight']:\n",
    "            fn = path + prefix + str(person_id).zfill(2) + '.' + state + surfix\n",
    "            im = misc.imread(fn)\n",
    "        \n",
    "            fn = 'ori' + str(person_id).zfill(2) + '.png'\n",
    "            #plt.show()\n",
    "        # reshape and subtract mean, don't forget \n",
    "            x = im.reshape(D, 1) - pca.mean_.reshape(D, 1)\n",
    "        # encode\n",
    "            z = U.T.dot(x)\n",
    "        #decode\n",
    "            x_tilde = U.dot(z) + pca.mean_.reshape(D, 1)\n",
    "\n",
    "        # reshape to orginal dim\n",
    "            im_tilde = x_tilde.reshape(116, 98)\n",
    "#         plt.imshow(im_tilde, interpolation='nearest' )\n",
    "          \n",
    "            fn = 'res' + str(person_id).zfill(2) + '.png'\n",
    "            #plt.show()\n",
    "        sum=0\n",
    "        for i in range(x.shape[0]):\n",
    "            sum+=(x_tilde[i][0]-x[i][0])**2\n",
    "        s=1/im.size*np.sqrt(sum)\n",
    "        return s\n",
    "\n",
    "xPoints = [1,10,20,30,50]\n",
    "yPoints = [asd(1),asd(10),asd(20),asd(30),asd(50)]\n",
    "plt.plot(xPoints,yPoints)\n",
    "plt.show()"
   ]
  },
  {
   "cell_type": "code",
   "execution_count": null,
   "metadata": {},
   "outputs": [],
   "source": []
  }
 ],
 "metadata": {
  "kernelspec": {
   "display_name": "Python 3",
   "language": "python",
   "name": "python3"
  },
  "language_info": {
   "codemirror_mode": {
    "name": "ipython",
    "version": 3
   },
   "file_extension": ".py",
   "mimetype": "text/x-python",
   "name": "python",
   "nbconvert_exporter": "python",
   "pygments_lexer": "ipython3",
   "version": "3.6.8"
  }
 },
 "nbformat": 4,
 "nbformat_minor": 2
}
